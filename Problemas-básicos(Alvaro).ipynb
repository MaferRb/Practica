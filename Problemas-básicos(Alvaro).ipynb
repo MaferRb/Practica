{
  "nbformat": 4,
  "nbformat_minor": 0,
  "metadata": {
    "colab": {
      "provenance": [],
      "include_colab_link": true
    },
    "kernelspec": {
      "name": "python3",
      "display_name": "Python 3"
    },
    "language_info": {
      "name": "python"
    }
  },
  "cells": [
    {
      "cell_type": "markdown",
      "metadata": {
        "id": "view-in-github",
        "colab_type": "text"
      },
      "source": [
        "<a href=\"https://colab.research.google.com/github/MaferRb/Practica/blob/main/Problemas-b%C3%A1sicos(Alvaro).ipynb\" target=\"_parent\"><img src=\"https://colab.research.google.com/assets/colab-badge.svg\" alt=\"Open In Colab\"/></a>"
      ]
    },
    {
      "cell_type": "code",
      "execution_count": 1,
      "metadata": {
        "id": "zOCzGuW7rA6L"
      },
      "outputs": [],
      "source": [
        "import pandas as pd"
      ]
    },
    {
      "cell_type": "markdown",
      "source": [],
      "metadata": {
        "id": "BWUeBOp5y3d2"
      }
    },
    {
      "cell_type": "code",
      "source": [
        "print('hello world')"
      ],
      "metadata": {
        "colab": {
          "base_uri": "https://localhost:8080/"
        },
        "id": "BWS8y-VvrHOW",
        "outputId": "1111794d-0968-4710-ea5d-b89f064caf96"
      },
      "execution_count": 2,
      "outputs": [
        {
          "output_type": "stream",
          "name": "stdout",
          "text": [
            "hello world\n"
          ]
        }
      ]
    },
    {
      "cell_type": "code",
      "source": [
        "def factorial(n):\n",
        "  prod = 1\n",
        "  for i in range(2,n+1):\n",
        "    prod = prod *i\n",
        "  return prod"
      ],
      "metadata": {
        "id": "d-4zoansrro1"
      },
      "execution_count": 3,
      "outputs": []
    },
    {
      "cell_type": "code",
      "source": [
        "factorial(5)"
      ],
      "metadata": {
        "id": "pm5mS0cwrrsD",
        "outputId": "96dc0cf8-b5da-4d05-fcec-94cc989c9187",
        "colab": {
          "base_uri": "https://localhost:8080/"
        }
      },
      "execution_count": 4,
      "outputs": [
        {
          "output_type": "execute_result",
          "data": {
            "text/plain": [
              "120"
            ]
          },
          "metadata": {},
          "execution_count": 4
        }
      ]
    },
    {
      "cell_type": "code",
      "source": [
        "## De cuantas posibles diferentes comités de 3 personas con 5 expertos.."
      ],
      "metadata": {
        "id": "6yLTbXT6smCP"
      },
      "execution_count": 5,
      "outputs": []
    },
    {
      "cell_type": "markdown",
      "source": [
        "\\begin{equation}\n",
        "\\binom{n}{k} = \\frac{n!}{(n-k)! k!}\n",
        "\\end{equation}"
      ],
      "metadata": {
        "id": "moRwqT1ItOXr"
      }
    },
    {
      "cell_type": "code",
      "source": [
        "def combinatoria(n, k):\n",
        "  numerator = factorial(n)\n",
        "  denominator = factorial(n-k)*factorial(k)\n",
        "  return numerator/denominator\n",
        "\n",
        "combinatoria(5, 5)"
      ],
      "metadata": {
        "id": "Tb5gbl0VtXuj",
        "outputId": "23976cdc-f860-48a6-d3d1-5801d1d50b54",
        "colab": {
          "base_uri": "https://localhost:8080/"
        }
      },
      "execution_count": 6,
      "outputs": [
        {
          "output_type": "execute_result",
          "data": {
            "text/plain": [
              "1.0"
            ]
          },
          "metadata": {},
          "execution_count": 6
        }
      ]
    },
    {
      "cell_type": "markdown",
      "source": [
        "AGREGAR PARADOJA DE LOS CUMPLEAÑOS"
      ],
      "metadata": {
        "id": "HAUHSONVy5LM"
      }
    }
  ]
}