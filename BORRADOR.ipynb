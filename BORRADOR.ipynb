{
  "cells": [
    {
      "cell_type": "markdown",
      "metadata": {
        "id": "view-in-github",
        "colab_type": "text"
      },
      "source": [
        "<a href=\"https://colab.research.google.com/github/MaferRb/Practica/blob/main/BORRADOR.ipynb\" target=\"_parent\"><img src=\"https://colab.research.google.com/assets/colab-badge.svg\" alt=\"Open In Colab\"/></a>"
      ]
    },
    {
      "cell_type": "code",
      "source": [
        "import pandas as pd\n",
        "url = 'https://raw.githubusercontent.com/it-ces/Datasets/main/basesuper.csv'\n",
        "df = pd.read_csv(url)"
      ],
      "metadata": {
        "id": "zFTx_ZzivpMs"
      },
      "execution_count": null,
      "outputs": []
    },
    {
      "cell_type": "code",
      "source": [
        "df"
      ],
      "metadata": {
        "colab": {
          "base_uri": "https://localhost:8080/",
          "height": 495
        },
        "id": "Bnk-xVO-wGOP",
        "outputId": "de4d04c5-cdf8-4497-fbd6-bc06ef450c6e"
      },
      "execution_count": null,
      "outputs": [
        {
          "output_type": "execute_result",
          "data": {
            "text/plain": [
              "       Unnamed: 0          NIT  y  Ingresos de actividades ordinarias  \\\n",
              "0               0  800009830.0  0                           1322093.0   \n",
              "1               1  800009830.0  0                           1322093.0   \n",
              "2               2  800009830.0  0                           1322093.0   \n",
              "3               3  800009830.0  0                           1322093.0   \n",
              "4               4  800095068.0  0                           9514013.0   \n",
              "...           ...          ... ..                                 ...   \n",
              "12768       12768  901202882.0  0                                 0.0   \n",
              "12769       12769  901209458.0  0                                 0.0   \n",
              "12770       12770  901216979.0  0                            258644.0   \n",
              "12771       12771  901218142.0  0                            150529.0   \n",
              "12772       12772  901240570.0  0                                 0.0   \n",
              "\n",
              "       Costo de ventas  Ganancia bruta  Otros ingresos  Gastos de ventas  \\\n",
              "0              39724.0       1282369.0         14121.0           14483.0   \n",
              "1              39724.0       1282369.0         14121.0           14483.0   \n",
              "2              39724.0       1282369.0         14121.0           14483.0   \n",
              "3              39724.0       1282369.0         14121.0           14483.0   \n",
              "4            7554030.0       1959983.0          1665.0          436294.0   \n",
              "...                ...             ...             ...               ...   \n",
              "12768              0.0             0.0             0.0             100.0   \n",
              "12769              NaN             0.0             0.0               NaN   \n",
              "12770         219700.0         38944.0             0.0               NaN   \n",
              "12771              NaN        150529.0             0.0               NaN   \n",
              "12772              0.0             0.0             0.0               0.0   \n",
              "\n",
              "       Gastos de administración  Otros gastos  ...  Prima de emisión  \\\n",
              "0                      180234.0       81522.0  ...            6607.0   \n",
              "1                      180234.0       81522.0  ...            6607.0   \n",
              "2                      180234.0       81522.0  ...            6607.0   \n",
              "3                      180234.0       81522.0  ...            6607.0   \n",
              "4                      537606.0      383833.0  ...               NaN   \n",
              "...                         ...           ...  ...               ...   \n",
              "12768                     170.0          83.0  ...               0.0   \n",
              "12769                   62450.0         374.0  ...               NaN   \n",
              "12770                   17653.0        1053.0  ...               NaN   \n",
              "12771                   52028.0           NaN  ...         1509391.0   \n",
              "12772                       0.0       33294.0  ...               NaN   \n",
              "\n",
              "       Acciones propias en cartera  \\\n",
              "0                              NaN   \n",
              "1                              NaN   \n",
              "2                              NaN   \n",
              "3                              NaN   \n",
              "4                              NaN   \n",
              "...                            ...   \n",
              "12768                          0.0   \n",
              "12769                          NaN   \n",
              "12770                          NaN   \n",
              "12771                          NaN   \n",
              "12772                          NaN   \n",
              "\n",
              "       Inversión suplementaria al capital asignado  \\\n",
              "0                                              NaN   \n",
              "1                                              NaN   \n",
              "2                                              NaN   \n",
              "3                                              NaN   \n",
              "4                                              NaN   \n",
              "...                                            ...   \n",
              "12768                                          NaN   \n",
              "12769                                          NaN   \n",
              "12770                                          NaN   \n",
              "12771                                          NaN   \n",
              "12772                                          NaN   \n",
              "\n",
              "       Otras participaciones en el patrimonio  Superavit por revaluación  \\\n",
              "0                                         NaN                        NaN   \n",
              "1                                         NaN                        NaN   \n",
              "2                                         NaN                        NaN   \n",
              "3                                         NaN                        NaN   \n",
              "4                                         NaN                        NaN   \n",
              "...                                       ...                        ...   \n",
              "12768                                     0.0                        0.0   \n",
              "12769                                     NaN                        NaN   \n",
              "12770                                     NaN                        NaN   \n",
              "12771                               3436642.0                        NaN   \n",
              "12772                                     NaN                        NaN   \n",
              "\n",
              "       Otras reservas  Ganancias acumuladas  Patrimonio total  \\\n",
              "0             46902.0             5380400.0         5527713.0   \n",
              "1             46902.0             5380400.0         5527713.0   \n",
              "2             46902.0             5380400.0         5527713.0   \n",
              "3             46902.0             5380400.0         5527713.0   \n",
              "4                 NaN             3919158.0         4291158.0   \n",
              "...               ...                   ...               ...   \n",
              "12768             0.0                -353.0             647.0   \n",
              "12769             NaN              -63454.0          -62454.0   \n",
              "12770             NaN               11791.0           36791.0   \n",
              "12771       7042654.0              -15662.0        13871762.0   \n",
              "12772             NaN            29817457.0        31611427.0   \n",
              "\n",
              "       Total de patrimonio y pasivos _merge  \n",
              "0                          6904653.0   both  \n",
              "1                          6904653.0   both  \n",
              "2                          6904653.0   both  \n",
              "3                          6904653.0   both  \n",
              "4                          8115039.0   both  \n",
              "...                              ...    ...  \n",
              "12768                          917.0   both  \n",
              "12769                      1361958.0   both  \n",
              "12770                       219013.0   both  \n",
              "12771                     14788446.0   both  \n",
              "12772                     34906901.0   both  \n",
              "\n",
              "[12773 rows x 91 columns]"
            ],
            "text/html": [
              "\n",
              "  <div id=\"df-2dd968de-8021-4707-a83e-6c791d8ad897\" class=\"colab-df-container\">\n",
              "    <div>\n",
              "<style scoped>\n",
              "    .dataframe tbody tr th:only-of-type {\n",
              "        vertical-align: middle;\n",
              "    }\n",
              "\n",
              "    .dataframe tbody tr th {\n",
              "        vertical-align: top;\n",
              "    }\n",
              "\n",
              "    .dataframe thead th {\n",
              "        text-align: right;\n",
              "    }\n",
              "</style>\n",
              "<table border=\"1\" class=\"dataframe\">\n",
              "  <thead>\n",
              "    <tr style=\"text-align: right;\">\n",
              "      <th></th>\n",
              "      <th>Unnamed: 0</th>\n",
              "      <th>NIT</th>\n",
              "      <th>y</th>\n",
              "      <th>Ingresos de actividades ordinarias</th>\n",
              "      <th>Costo de ventas</th>\n",
              "      <th>Ganancia bruta</th>\n",
              "      <th>Otros ingresos</th>\n",
              "      <th>Gastos de ventas</th>\n",
              "      <th>Gastos de administración</th>\n",
              "      <th>Otros gastos</th>\n",
              "      <th>...</th>\n",
              "      <th>Prima de emisión</th>\n",
              "      <th>Acciones propias en cartera</th>\n",
              "      <th>Inversión suplementaria al capital asignado</th>\n",
              "      <th>Otras participaciones en el patrimonio</th>\n",
              "      <th>Superavit por revaluación</th>\n",
              "      <th>Otras reservas</th>\n",
              "      <th>Ganancias acumuladas</th>\n",
              "      <th>Patrimonio total</th>\n",
              "      <th>Total de patrimonio y pasivos</th>\n",
              "      <th>_merge</th>\n",
              "    </tr>\n",
              "  </thead>\n",
              "  <tbody>\n",
              "    <tr>\n",
              "      <th>0</th>\n",
              "      <td>0</td>\n",
              "      <td>800009830.0</td>\n",
              "      <td>0</td>\n",
              "      <td>1322093.0</td>\n",
              "      <td>39724.0</td>\n",
              "      <td>1282369.0</td>\n",
              "      <td>14121.0</td>\n",
              "      <td>14483.0</td>\n",
              "      <td>180234.0</td>\n",
              "      <td>81522.0</td>\n",
              "      <td>...</td>\n",
              "      <td>6607.0</td>\n",
              "      <td>NaN</td>\n",
              "      <td>NaN</td>\n",
              "      <td>NaN</td>\n",
              "      <td>NaN</td>\n",
              "      <td>46902.0</td>\n",
              "      <td>5380400.0</td>\n",
              "      <td>5527713.0</td>\n",
              "      <td>6904653.0</td>\n",
              "      <td>both</td>\n",
              "    </tr>\n",
              "    <tr>\n",
              "      <th>1</th>\n",
              "      <td>1</td>\n",
              "      <td>800009830.0</td>\n",
              "      <td>0</td>\n",
              "      <td>1322093.0</td>\n",
              "      <td>39724.0</td>\n",
              "      <td>1282369.0</td>\n",
              "      <td>14121.0</td>\n",
              "      <td>14483.0</td>\n",
              "      <td>180234.0</td>\n",
              "      <td>81522.0</td>\n",
              "      <td>...</td>\n",
              "      <td>6607.0</td>\n",
              "      <td>NaN</td>\n",
              "      <td>NaN</td>\n",
              "      <td>NaN</td>\n",
              "      <td>NaN</td>\n",
              "      <td>46902.0</td>\n",
              "      <td>5380400.0</td>\n",
              "      <td>5527713.0</td>\n",
              "      <td>6904653.0</td>\n",
              "      <td>both</td>\n",
              "    </tr>\n",
              "    <tr>\n",
              "      <th>2</th>\n",
              "      <td>2</td>\n",
              "      <td>800009830.0</td>\n",
              "      <td>0</td>\n",
              "      <td>1322093.0</td>\n",
              "      <td>39724.0</td>\n",
              "      <td>1282369.0</td>\n",
              "      <td>14121.0</td>\n",
              "      <td>14483.0</td>\n",
              "      <td>180234.0</td>\n",
              "      <td>81522.0</td>\n",
              "      <td>...</td>\n",
              "      <td>6607.0</td>\n",
              "      <td>NaN</td>\n",
              "      <td>NaN</td>\n",
              "      <td>NaN</td>\n",
              "      <td>NaN</td>\n",
              "      <td>46902.0</td>\n",
              "      <td>5380400.0</td>\n",
              "      <td>5527713.0</td>\n",
              "      <td>6904653.0</td>\n",
              "      <td>both</td>\n",
              "    </tr>\n",
              "    <tr>\n",
              "      <th>3</th>\n",
              "      <td>3</td>\n",
              "      <td>800009830.0</td>\n",
              "      <td>0</td>\n",
              "      <td>1322093.0</td>\n",
              "      <td>39724.0</td>\n",
              "      <td>1282369.0</td>\n",
              "      <td>14121.0</td>\n",
              "      <td>14483.0</td>\n",
              "      <td>180234.0</td>\n",
              "      <td>81522.0</td>\n",
              "      <td>...</td>\n",
              "      <td>6607.0</td>\n",
              "      <td>NaN</td>\n",
              "      <td>NaN</td>\n",
              "      <td>NaN</td>\n",
              "      <td>NaN</td>\n",
              "      <td>46902.0</td>\n",
              "      <td>5380400.0</td>\n",
              "      <td>5527713.0</td>\n",
              "      <td>6904653.0</td>\n",
              "      <td>both</td>\n",
              "    </tr>\n",
              "    <tr>\n",
              "      <th>4</th>\n",
              "      <td>4</td>\n",
              "      <td>800095068.0</td>\n",
              "      <td>0</td>\n",
              "      <td>9514013.0</td>\n",
              "      <td>7554030.0</td>\n",
              "      <td>1959983.0</td>\n",
              "      <td>1665.0</td>\n",
              "      <td>436294.0</td>\n",
              "      <td>537606.0</td>\n",
              "      <td>383833.0</td>\n",
              "      <td>...</td>\n",
              "      <td>NaN</td>\n",
              "      <td>NaN</td>\n",
              "      <td>NaN</td>\n",
              "      <td>NaN</td>\n",
              "      <td>NaN</td>\n",
              "      <td>NaN</td>\n",
              "      <td>3919158.0</td>\n",
              "      <td>4291158.0</td>\n",
              "      <td>8115039.0</td>\n",
              "      <td>both</td>\n",
              "    </tr>\n",
              "    <tr>\n",
              "      <th>...</th>\n",
              "      <td>...</td>\n",
              "      <td>...</td>\n",
              "      <td>...</td>\n",
              "      <td>...</td>\n",
              "      <td>...</td>\n",
              "      <td>...</td>\n",
              "      <td>...</td>\n",
              "      <td>...</td>\n",
              "      <td>...</td>\n",
              "      <td>...</td>\n",
              "      <td>...</td>\n",
              "      <td>...</td>\n",
              "      <td>...</td>\n",
              "      <td>...</td>\n",
              "      <td>...</td>\n",
              "      <td>...</td>\n",
              "      <td>...</td>\n",
              "      <td>...</td>\n",
              "      <td>...</td>\n",
              "      <td>...</td>\n",
              "      <td>...</td>\n",
              "    </tr>\n",
              "    <tr>\n",
              "      <th>12768</th>\n",
              "      <td>12768</td>\n",
              "      <td>901202882.0</td>\n",
              "      <td>0</td>\n",
              "      <td>0.0</td>\n",
              "      <td>0.0</td>\n",
              "      <td>0.0</td>\n",
              "      <td>0.0</td>\n",
              "      <td>100.0</td>\n",
              "      <td>170.0</td>\n",
              "      <td>83.0</td>\n",
              "      <td>...</td>\n",
              "      <td>0.0</td>\n",
              "      <td>0.0</td>\n",
              "      <td>NaN</td>\n",
              "      <td>0.0</td>\n",
              "      <td>0.0</td>\n",
              "      <td>0.0</td>\n",
              "      <td>-353.0</td>\n",
              "      <td>647.0</td>\n",
              "      <td>917.0</td>\n",
              "      <td>both</td>\n",
              "    </tr>\n",
              "    <tr>\n",
              "      <th>12769</th>\n",
              "      <td>12769</td>\n",
              "      <td>901209458.0</td>\n",
              "      <td>0</td>\n",
              "      <td>0.0</td>\n",
              "      <td>NaN</td>\n",
              "      <td>0.0</td>\n",
              "      <td>0.0</td>\n",
              "      <td>NaN</td>\n",
              "      <td>62450.0</td>\n",
              "      <td>374.0</td>\n",
              "      <td>...</td>\n",
              "      <td>NaN</td>\n",
              "      <td>NaN</td>\n",
              "      <td>NaN</td>\n",
              "      <td>NaN</td>\n",
              "      <td>NaN</td>\n",
              "      <td>NaN</td>\n",
              "      <td>-63454.0</td>\n",
              "      <td>-62454.0</td>\n",
              "      <td>1361958.0</td>\n",
              "      <td>both</td>\n",
              "    </tr>\n",
              "    <tr>\n",
              "      <th>12770</th>\n",
              "      <td>12770</td>\n",
              "      <td>901216979.0</td>\n",
              "      <td>0</td>\n",
              "      <td>258644.0</td>\n",
              "      <td>219700.0</td>\n",
              "      <td>38944.0</td>\n",
              "      <td>0.0</td>\n",
              "      <td>NaN</td>\n",
              "      <td>17653.0</td>\n",
              "      <td>1053.0</td>\n",
              "      <td>...</td>\n",
              "      <td>NaN</td>\n",
              "      <td>NaN</td>\n",
              "      <td>NaN</td>\n",
              "      <td>NaN</td>\n",
              "      <td>NaN</td>\n",
              "      <td>NaN</td>\n",
              "      <td>11791.0</td>\n",
              "      <td>36791.0</td>\n",
              "      <td>219013.0</td>\n",
              "      <td>both</td>\n",
              "    </tr>\n",
              "    <tr>\n",
              "      <th>12771</th>\n",
              "      <td>12771</td>\n",
              "      <td>901218142.0</td>\n",
              "      <td>0</td>\n",
              "      <td>150529.0</td>\n",
              "      <td>NaN</td>\n",
              "      <td>150529.0</td>\n",
              "      <td>0.0</td>\n",
              "      <td>NaN</td>\n",
              "      <td>52028.0</td>\n",
              "      <td>NaN</td>\n",
              "      <td>...</td>\n",
              "      <td>1509391.0</td>\n",
              "      <td>NaN</td>\n",
              "      <td>NaN</td>\n",
              "      <td>3436642.0</td>\n",
              "      <td>NaN</td>\n",
              "      <td>7042654.0</td>\n",
              "      <td>-15662.0</td>\n",
              "      <td>13871762.0</td>\n",
              "      <td>14788446.0</td>\n",
              "      <td>both</td>\n",
              "    </tr>\n",
              "    <tr>\n",
              "      <th>12772</th>\n",
              "      <td>12772</td>\n",
              "      <td>901240570.0</td>\n",
              "      <td>0</td>\n",
              "      <td>0.0</td>\n",
              "      <td>0.0</td>\n",
              "      <td>0.0</td>\n",
              "      <td>0.0</td>\n",
              "      <td>0.0</td>\n",
              "      <td>0.0</td>\n",
              "      <td>33294.0</td>\n",
              "      <td>...</td>\n",
              "      <td>NaN</td>\n",
              "      <td>NaN</td>\n",
              "      <td>NaN</td>\n",
              "      <td>NaN</td>\n",
              "      <td>NaN</td>\n",
              "      <td>NaN</td>\n",
              "      <td>29817457.0</td>\n",
              "      <td>31611427.0</td>\n",
              "      <td>34906901.0</td>\n",
              "      <td>both</td>\n",
              "    </tr>\n",
              "  </tbody>\n",
              "</table>\n",
              "<p>12773 rows × 91 columns</p>\n",
              "</div>\n",
              "    <div class=\"colab-df-buttons\">\n",
              "\n",
              "  <div class=\"colab-df-container\">\n",
              "    <button class=\"colab-df-convert\" onclick=\"convertToInteractive('df-2dd968de-8021-4707-a83e-6c791d8ad897')\"\n",
              "            title=\"Convert this dataframe to an interactive table.\"\n",
              "            style=\"display:none;\">\n",
              "\n",
              "  <svg xmlns=\"http://www.w3.org/2000/svg\" height=\"24px\" viewBox=\"0 -960 960 960\">\n",
              "    <path d=\"M120-120v-720h720v720H120Zm60-500h600v-160H180v160Zm220 220h160v-160H400v160Zm0 220h160v-160H400v160ZM180-400h160v-160H180v160Zm440 0h160v-160H620v160ZM180-180h160v-160H180v160Zm440 0h160v-160H620v160Z\"/>\n",
              "  </svg>\n",
              "    </button>\n",
              "\n",
              "  <style>\n",
              "    .colab-df-container {\n",
              "      display:flex;\n",
              "      gap: 12px;\n",
              "    }\n",
              "\n",
              "    .colab-df-convert {\n",
              "      background-color: #E8F0FE;\n",
              "      border: none;\n",
              "      border-radius: 50%;\n",
              "      cursor: pointer;\n",
              "      display: none;\n",
              "      fill: #1967D2;\n",
              "      height: 32px;\n",
              "      padding: 0 0 0 0;\n",
              "      width: 32px;\n",
              "    }\n",
              "\n",
              "    .colab-df-convert:hover {\n",
              "      background-color: #E2EBFA;\n",
              "      box-shadow: 0px 1px 2px rgba(60, 64, 67, 0.3), 0px 1px 3px 1px rgba(60, 64, 67, 0.15);\n",
              "      fill: #174EA6;\n",
              "    }\n",
              "\n",
              "    .colab-df-buttons div {\n",
              "      margin-bottom: 4px;\n",
              "    }\n",
              "\n",
              "    [theme=dark] .colab-df-convert {\n",
              "      background-color: #3B4455;\n",
              "      fill: #D2E3FC;\n",
              "    }\n",
              "\n",
              "    [theme=dark] .colab-df-convert:hover {\n",
              "      background-color: #434B5C;\n",
              "      box-shadow: 0px 1px 3px 1px rgba(0, 0, 0, 0.15);\n",
              "      filter: drop-shadow(0px 1px 2px rgba(0, 0, 0, 0.3));\n",
              "      fill: #FFFFFF;\n",
              "    }\n",
              "  </style>\n",
              "\n",
              "    <script>\n",
              "      const buttonEl =\n",
              "        document.querySelector('#df-2dd968de-8021-4707-a83e-6c791d8ad897 button.colab-df-convert');\n",
              "      buttonEl.style.display =\n",
              "        google.colab.kernel.accessAllowed ? 'block' : 'none';\n",
              "\n",
              "      async function convertToInteractive(key) {\n",
              "        const element = document.querySelector('#df-2dd968de-8021-4707-a83e-6c791d8ad897');\n",
              "        const dataTable =\n",
              "          await google.colab.kernel.invokeFunction('convertToInteractive',\n",
              "                                                    [key], {});\n",
              "        if (!dataTable) return;\n",
              "\n",
              "        const docLinkHtml = 'Like what you see? Visit the ' +\n",
              "          '<a target=\"_blank\" href=https://colab.research.google.com/notebooks/data_table.ipynb>data table notebook</a>'\n",
              "          + ' to learn more about interactive tables.';\n",
              "        element.innerHTML = '';\n",
              "        dataTable['output_type'] = 'display_data';\n",
              "        await google.colab.output.renderOutput(dataTable, element);\n",
              "        const docLink = document.createElement('div');\n",
              "        docLink.innerHTML = docLinkHtml;\n",
              "        element.appendChild(docLink);\n",
              "      }\n",
              "    </script>\n",
              "  </div>\n",
              "\n",
              "\n",
              "<div id=\"df-8f055c84-ab31-48a8-82a7-7f86e88c6d3b\">\n",
              "  <button class=\"colab-df-quickchart\" onclick=\"quickchart('df-8f055c84-ab31-48a8-82a7-7f86e88c6d3b')\"\n",
              "            title=\"Suggest charts.\"\n",
              "            style=\"display:none;\">\n",
              "\n",
              "<svg xmlns=\"http://www.w3.org/2000/svg\" height=\"24px\"viewBox=\"0 0 24 24\"\n",
              "     width=\"24px\">\n",
              "    <g>\n",
              "        <path d=\"M19 3H5c-1.1 0-2 .9-2 2v14c0 1.1.9 2 2 2h14c1.1 0 2-.9 2-2V5c0-1.1-.9-2-2-2zM9 17H7v-7h2v7zm4 0h-2V7h2v10zm4 0h-2v-4h2v4z\"/>\n",
              "    </g>\n",
              "</svg>\n",
              "  </button>\n",
              "\n",
              "<style>\n",
              "  .colab-df-quickchart {\n",
              "    background-color: #E8F0FE;\n",
              "    border: none;\n",
              "    border-radius: 50%;\n",
              "    cursor: pointer;\n",
              "    display: none;\n",
              "    fill: #1967D2;\n",
              "    height: 32px;\n",
              "    padding: 0 0 0 0;\n",
              "    width: 32px;\n",
              "  }\n",
              "\n",
              "  .colab-df-quickchart:hover {\n",
              "    background-color: #E2EBFA;\n",
              "    box-shadow: 0px 1px 2px rgba(60, 64, 67, 0.3), 0px 1px 3px 1px rgba(60, 64, 67, 0.15);\n",
              "    fill: #174EA6;\n",
              "  }\n",
              "\n",
              "  [theme=dark] .colab-df-quickchart {\n",
              "    background-color: #3B4455;\n",
              "    fill: #D2E3FC;\n",
              "  }\n",
              "\n",
              "  [theme=dark] .colab-df-quickchart:hover {\n",
              "    background-color: #434B5C;\n",
              "    box-shadow: 0px 1px 3px 1px rgba(0, 0, 0, 0.15);\n",
              "    filter: drop-shadow(0px 1px 2px rgba(0, 0, 0, 0.3));\n",
              "    fill: #FFFFFF;\n",
              "  }\n",
              "</style>\n",
              "\n",
              "  <script>\n",
              "    async function quickchart(key) {\n",
              "      const charts = await google.colab.kernel.invokeFunction(\n",
              "          'suggestCharts', [key], {});\n",
              "    }\n",
              "    (() => {\n",
              "      let quickchartButtonEl =\n",
              "        document.querySelector('#df-8f055c84-ab31-48a8-82a7-7f86e88c6d3b button');\n",
              "      quickchartButtonEl.style.display =\n",
              "        google.colab.kernel.accessAllowed ? 'block' : 'none';\n",
              "    })();\n",
              "  </script>\n",
              "</div>\n",
              "    </div>\n",
              "  </div>\n"
            ]
          },
          "metadata": {},
          "execution_count": 17
        }
      ]
    },
    {
      "cell_type": "code",
      "source": [
        "import pandas as pd\n",
        "from sklearn.preprocessing import OneHotEncoder, OrdinalEncoder\n",
        "import pandas as pd\n",
        "from sklearn.model_selection import train_test_split\n",
        "import os\n",
        "from scipy import stats"
      ],
      "metadata": {
        "id": "r1EgmNCvvS5V"
      },
      "execution_count": null,
      "outputs": []
    },
    {
      "cell_type": "code",
      "source": [
        "from sklearn import linear_model\n",
        "from sklearn.linear_model import LogisticRegression\n",
        "from sklearn.model_selection import RepeatedStratifiedKFold\n",
        "from sklearn.model_selection import GridSearchCV\n",
        "from sklearn.metrics import classification_report, accuracy_score, precision_recall_fscore_support, confusion_matrix, precision_score, recall_score, roc_auc_score"
      ],
      "metadata": {
        "id": "kiAiiSKZjrio"
      },
      "execution_count": null,
      "outputs": []
    },
    {
      "cell_type": "code",
      "source": [
        "def Xy(df,target):\n",
        "    \"\"\"\n",
        "    Split the data in X,y to ML implementations\n",
        "    \"\"\"\n",
        "    X = df.loc[ : , df.columns != target]\n",
        "    y = df[target].astype('int')\n",
        "    return X,y"
      ],
      "metadata": {
        "id": "wIsqp0vfj2X1"
      },
      "execution_count": null,
      "outputs": []
    },
    {
      "cell_type": "code",
      "source": [
        "def grid_lr(X_train, y_train):\n",
        "    model = LogisticRegression(random_state=666, max_iter=1000)\n",
        "    class_weight =  [{0:0.05, 1:0.95}, {0:0.1, 1:0.9}, {0:0.2, 1:0.8}]\n",
        "    solvers = ['liblinear']\n",
        "    penalty = ['l2','l1']\n",
        "    c_values = [ 10, 1.0, 0.1, 0.01, 0.001, ]\n",
        "    grid = dict(solver=solvers,penalty=penalty,C=c_values, class_weight= class_weight)\n",
        "    cv = RepeatedStratifiedKFold(n_splits=10, n_repeats=3, random_state=1)\n",
        "    grid_search = GridSearchCV(estimator=model, param_grid=grid, n_jobs=-1, cv=cv,scoring='f1',error_score='raise')\n",
        "    grid_result = grid_search.fit(X_train, y_train)\n",
        "    return  grid_result.best_estimator_"
      ],
      "metadata": {
        "id": "Xn1w6FA5rpuz"
      },
      "execution_count": null,
      "outputs": []
    },
    {
      "cell_type": "code",
      "source": [
        "url = \"https://raw.githubusercontent.com/it-ces/Datasets/main/basesuper.csv\"\n",
        "df  = pd.read_csv(url)"
      ],
      "metadata": {
        "id": "9reKVapFrtzV"
      },
      "execution_count": null,
      "outputs": []
    },
    {
      "cell_type": "code",
      "source": [
        "features = ['Activos corrientes totales', 'Pasivos corrientes totales' , 'Ganancia bruta', 'Patrimonio total', 'Total pasivos', 'Total de patrimonio y pasivos', 'y', 'Propiedades planta y equipo']\n",
        "df = df[features]\n",
        "df.dropna(inplace=True)\n",
        "df['razon_corriente']=  df['Activos corrientes totales'] / df['Pasivos corrientes totales']\n",
        "df['rentabilidad_patrimonio'] = df['Ganancia bruta'] / df['Patrimonio total']\n",
        "df['endeudamiento'] = df['Total pasivos'] / df[ 'Total de patrimonio y pasivos']\n",
        "df['short_run_apalancamiento'] = df['Pasivos corrientes totales'] / df['Patrimonio total']"
      ],
      "metadata": {
        "id": "Yx_6iahNrxMU"
      },
      "execution_count": null,
      "outputs": []
    },
    {
      "cell_type": "code",
      "source": [
        "featuresy = ['razon_corriente', 'rentabilidad_patrimonio', 'endeudamiento' ,'short_run_apalancamiento' ,'y']\n",
        "df = df[featuresy]\n",
        "df.dropna(inplace=True)"
      ],
      "metadata": {
        "id": "KocwHmbur3Qr"
      },
      "execution_count": null,
      "outputs": []
    },
    {
      "cell_type": "code",
      "source": [
        "import pandas as pd\n",
        "import numpy as np\n",
        "\n",
        "def clean(df):\n",
        "    index = ~df.isin([ np.inf, -np.inf]).any(axis=1)\n",
        "    return df[index].astype(np.float64)"
      ],
      "metadata": {
        "id": "4aR-BJfHkVAv"
      },
      "execution_count": null,
      "outputs": []
    },
    {
      "cell_type": "code",
      "source": [
        "df = clean(df)\n",
        "X,y = Xy(df, 'y')\n",
        "X_train, X_test, y_train, y_test = train_test_split(X, y, test_size=0.2, shuffle = True, random_state = 666, stratify=y)\n",
        "best_model = grid_lr(X_train, y_train)\n",
        "preds = best_model.predict(X_test)\n",
        "print(classification_report(y_test, preds))"
      ],
      "metadata": {
        "colab": {
          "base_uri": "https://localhost:8080/"
        },
        "id": "ilX8XnW0kjiM",
        "outputId": "50de8487-20b0-47f6-96a8-fdd7dfd6be2b"
      },
      "execution_count": null,
      "outputs": [
        {
          "output_type": "stream",
          "name": "stdout",
          "text": [
            "              precision    recall  f1-score   support\n",
            "\n",
            "           0       0.99      0.99      0.99      2507\n",
            "           1       0.00      0.00      0.00        35\n",
            "\n",
            "    accuracy                           0.98      2542\n",
            "   macro avg       0.49      0.50      0.49      2542\n",
            "weighted avg       0.97      0.98      0.97      2542\n",
            "\n"
          ]
        }
      ]
    },
    {
      "cell_type": "code",
      "source": [
        "! pip install imbalanced-learn"
      ],
      "metadata": {
        "colab": {
          "base_uri": "https://localhost:8080/"
        },
        "id": "UHB3nDSnSg7p",
        "outputId": "a8afaf29-bcd2-4189-88d6-0db2717603cc"
      },
      "execution_count": null,
      "outputs": [
        {
          "output_type": "stream",
          "name": "stdout",
          "text": [
            "Requirement already satisfied: imbalanced-learn in /usr/local/lib/python3.10/dist-packages (0.10.1)\n",
            "Requirement already satisfied: numpy>=1.17.3 in /usr/local/lib/python3.10/dist-packages (from imbalanced-learn) (1.23.5)\n",
            "Requirement already satisfied: scipy>=1.3.2 in /usr/local/lib/python3.10/dist-packages (from imbalanced-learn) (1.10.1)\n",
            "Requirement already satisfied: scikit-learn>=1.0.2 in /usr/local/lib/python3.10/dist-packages (from imbalanced-learn) (1.2.2)\n",
            "Requirement already satisfied: joblib>=1.1.1 in /usr/local/lib/python3.10/dist-packages (from imbalanced-learn) (1.3.2)\n",
            "Requirement already satisfied: threadpoolctl>=2.0.0 in /usr/local/lib/python3.10/dist-packages (from imbalanced-learn) (3.2.0)\n"
          ]
        }
      ]
    },
    {
      "cell_type": "code",
      "source": [
        "from imblearn.under_sampling import RandomUnderSampler\n",
        "rus = RandomUnderSampler(random_state=1234)\n",
        "X_res, y_res = rus.fit_resample(X, y)"
      ],
      "metadata": {
        "id": "SavEwQjOTXBI"
      },
      "execution_count": null,
      "outputs": []
    },
    {
      "cell_type": "code",
      "source": [
        "y_res.value_counts()"
      ],
      "metadata": {
        "colab": {
          "base_uri": "https://localhost:8080/"
        },
        "id": "q3wa5ileT4eg",
        "outputId": "fb2890aa-071d-4bd6-d33f-6ae16c70ec24"
      },
      "execution_count": null,
      "outputs": [
        {
          "output_type": "execute_result",
          "data": {
            "text/plain": [
              "0    174\n",
              "1    174\n",
              "Name: y, dtype: int64"
            ]
          },
          "metadata": {},
          "execution_count": 29
        }
      ]
    },
    {
      "cell_type": "code",
      "source": [
        "X_train, X_test, y_train, y_test = train_test_split(X_res, y_res, test_size=0.2, shuffle = True, random_state = 666, stratify=y_res)\n",
        "best_model = grid_lr(X_train, y_train)\n",
        "preds = best_model.predict(X_test)\n",
        "print(classification_report(y_test, preds))"
      ],
      "metadata": {
        "id": "CGpeBnqsT_7f",
        "colab": {
          "base_uri": "https://localhost:8080/"
        },
        "outputId": "987396c6-d99e-46e4-9faf-409e624800b2"
      },
      "execution_count": null,
      "outputs": [
        {
          "output_type": "stream",
          "name": "stdout",
          "text": [
            "              precision    recall  f1-score   support\n",
            "\n",
            "           0       0.80      0.23      0.36        35\n",
            "           1       0.55      0.94      0.69        35\n",
            "\n",
            "    accuracy                           0.59        70\n",
            "   macro avg       0.68      0.59      0.53        70\n",
            "weighted avg       0.68      0.59      0.53        70\n",
            "\n"
          ]
        }
      ]
    },
    {
      "cell_type": "code",
      "source": [],
      "metadata": {
        "id": "g8o0YR_dON62"
      },
      "execution_count": null,
      "outputs": []
    },
    {
      "cell_type": "code",
      "execution_count": null,
      "metadata": {
        "id": "-3iYgb7w54s4"
      },
      "outputs": [],
      "source": [
        "import pandas as pd\n",
        "import numpy as np\n",
        "from sklearn.tree import DecisionTreeClassifier # esta es la libería del clasificador de DT"
      ]
    },
    {
      "cell_type": "code",
      "source": [
        "url = \"https://raw.githubusercontent.com/it-ces/Datasets/main/basesuper.csv\""
      ],
      "metadata": {
        "id": "zil85UrL6aco"
      },
      "execution_count": null,
      "outputs": []
    },
    {
      "cell_type": "markdown",
      "source": [],
      "metadata": {
        "id": "D0Zi91dP6xx8"
      }
    },
    {
      "cell_type": "code",
      "source": [
        "df  = pd.read_csv(url)"
      ],
      "metadata": {
        "id": "vsE6l8_O6kae"
      },
      "execution_count": null,
      "outputs": []
    },
    {
      "cell_type": "code",
      "source": [
        "predictors = ['Activos corrientes totales', 'Pasivos corrientes totales' , 'Ganancia bruta', 'Patrimonio total', 'Total pasivos', 'Total de patrimonio y pasivos', 'y']\n",
        "df = df[predictors]\n",
        "df.dropna(inplace=True)\n",
        "df['razon_corriente']=  df['Activos corrientes totales'] / df['Pasivos corrientes totales']\n",
        "df['rentabilidad_patrimonio'] = df['Ganancia bruta'] / df['Patrimonio total']\n",
        "df['endeudamiento'] = df['Total pasivos'] / df[ 'Total de patrimonio y pasivos']\n",
        "df['short_run_apalancamiento'] = df['Pasivos corrientes totales'] / df['Patrimonio total']"
      ],
      "metadata": {
        "id": "wgjWmN266yLJ"
      },
      "execution_count": null,
      "outputs": []
    },
    {
      "cell_type": "code",
      "source": [
        "predictors = ['razon_corriente', 'rentabilidad_patrimonio', 'endeudamiento' ,'short_run_apalancamiento' ,'y']\n",
        "df = df[predictors]\n",
        "df.dropna(inplace=True)"
      ],
      "metadata": {
        "id": "zNj_LGrAvE_1"
      },
      "execution_count": null,
      "outputs": []
    },
    {
      "cell_type": "code",
      "source": [
        "import pandas as pd\n",
        "import numpy as np\n",
        "\n",
        "def clean(df):\n",
        "    index = ~df.isin([ np.inf, -np.inf]).any(axis=1)\n",
        "    return df[index].astype(np.float64)\n",
        "\n",
        "df = clean(df)"
      ],
      "metadata": {
        "id": "xFNsCKh0vaNP"
      },
      "execution_count": null,
      "outputs": []
    },
    {
      "cell_type": "code",
      "source": [
        "X = df[predictors]\n",
        "y = df['y']"
      ],
      "metadata": {
        "id": "T4h4_awG7DR9"
      },
      "execution_count": null,
      "outputs": []
    },
    {
      "cell_type": "code",
      "source": [
        "y.value_counts()"
      ],
      "metadata": {
        "colab": {
          "base_uri": "https://localhost:8080/"
        },
        "id": "NirvXHps7QJt",
        "outputId": "200fa0d9-4164-4037-c098-cc772bb61140"
      },
      "execution_count": null,
      "outputs": [
        {
          "output_type": "execute_result",
          "data": {
            "text/plain": [
              "0.0    12535\n",
              "1.0      174\n",
              "Name: y, dtype: int64"
            ]
          },
          "metadata": {},
          "execution_count": 38
        }
      ]
    },
    {
      "cell_type": "code",
      "source": [
        "clf = DecisionTreeClassifier()"
      ],
      "metadata": {
        "id": "O0zPRbDU7XzQ"
      },
      "execution_count": null,
      "outputs": []
    },
    {
      "cell_type": "code",
      "source": [
        "clf.fit(X, y) # ajuste o entre de X y y"
      ],
      "metadata": {
        "colab": {
          "base_uri": "https://localhost:8080/",
          "height": 74
        },
        "id": "AXPqcYVj7cod",
        "outputId": "7dacc535-0fba-4fa6-fb7a-65edb73f67b1"
      },
      "execution_count": null,
      "outputs": [
        {
          "output_type": "execute_result",
          "data": {
            "text/plain": [
              "DecisionTreeClassifier()"
            ],
            "text/html": [
              "<style>#sk-container-id-1 {color: black;background-color: white;}#sk-container-id-1 pre{padding: 0;}#sk-container-id-1 div.sk-toggleable {background-color: white;}#sk-container-id-1 label.sk-toggleable__label {cursor: pointer;display: block;width: 100%;margin-bottom: 0;padding: 0.3em;box-sizing: border-box;text-align: center;}#sk-container-id-1 label.sk-toggleable__label-arrow:before {content: \"▸\";float: left;margin-right: 0.25em;color: #696969;}#sk-container-id-1 label.sk-toggleable__label-arrow:hover:before {color: black;}#sk-container-id-1 div.sk-estimator:hover label.sk-toggleable__label-arrow:before {color: black;}#sk-container-id-1 div.sk-toggleable__content {max-height: 0;max-width: 0;overflow: hidden;text-align: left;background-color: #f0f8ff;}#sk-container-id-1 div.sk-toggleable__content pre {margin: 0.2em;color: black;border-radius: 0.25em;background-color: #f0f8ff;}#sk-container-id-1 input.sk-toggleable__control:checked~div.sk-toggleable__content {max-height: 200px;max-width: 100%;overflow: auto;}#sk-container-id-1 input.sk-toggleable__control:checked~label.sk-toggleable__label-arrow:before {content: \"▾\";}#sk-container-id-1 div.sk-estimator input.sk-toggleable__control:checked~label.sk-toggleable__label {background-color: #d4ebff;}#sk-container-id-1 div.sk-label input.sk-toggleable__control:checked~label.sk-toggleable__label {background-color: #d4ebff;}#sk-container-id-1 input.sk-hidden--visually {border: 0;clip: rect(1px 1px 1px 1px);clip: rect(1px, 1px, 1px, 1px);height: 1px;margin: -1px;overflow: hidden;padding: 0;position: absolute;width: 1px;}#sk-container-id-1 div.sk-estimator {font-family: monospace;background-color: #f0f8ff;border: 1px dotted black;border-radius: 0.25em;box-sizing: border-box;margin-bottom: 0.5em;}#sk-container-id-1 div.sk-estimator:hover {background-color: #d4ebff;}#sk-container-id-1 div.sk-parallel-item::after {content: \"\";width: 100%;border-bottom: 1px solid gray;flex-grow: 1;}#sk-container-id-1 div.sk-label:hover label.sk-toggleable__label {background-color: #d4ebff;}#sk-container-id-1 div.sk-serial::before {content: \"\";position: absolute;border-left: 1px solid gray;box-sizing: border-box;top: 0;bottom: 0;left: 50%;z-index: 0;}#sk-container-id-1 div.sk-serial {display: flex;flex-direction: column;align-items: center;background-color: white;padding-right: 0.2em;padding-left: 0.2em;position: relative;}#sk-container-id-1 div.sk-item {position: relative;z-index: 1;}#sk-container-id-1 div.sk-parallel {display: flex;align-items: stretch;justify-content: center;background-color: white;position: relative;}#sk-container-id-1 div.sk-item::before, #sk-container-id-1 div.sk-parallel-item::before {content: \"\";position: absolute;border-left: 1px solid gray;box-sizing: border-box;top: 0;bottom: 0;left: 50%;z-index: -1;}#sk-container-id-1 div.sk-parallel-item {display: flex;flex-direction: column;z-index: 1;position: relative;background-color: white;}#sk-container-id-1 div.sk-parallel-item:first-child::after {align-self: flex-end;width: 50%;}#sk-container-id-1 div.sk-parallel-item:last-child::after {align-self: flex-start;width: 50%;}#sk-container-id-1 div.sk-parallel-item:only-child::after {width: 0;}#sk-container-id-1 div.sk-dashed-wrapped {border: 1px dashed gray;margin: 0 0.4em 0.5em 0.4em;box-sizing: border-box;padding-bottom: 0.4em;background-color: white;}#sk-container-id-1 div.sk-label label {font-family: monospace;font-weight: bold;display: inline-block;line-height: 1.2em;}#sk-container-id-1 div.sk-label-container {text-align: center;}#sk-container-id-1 div.sk-container {/* jupyter's `normalize.less` sets `[hidden] { display: none; }` but bootstrap.min.css set `[hidden] { display: none !important; }` so we also need the `!important` here to be able to override the default hidden behavior on the sphinx rendered scikit-learn.org. See: https://github.com/scikit-learn/scikit-learn/issues/21755 */display: inline-block !important;position: relative;}#sk-container-id-1 div.sk-text-repr-fallback {display: none;}</style><div id=\"sk-container-id-1\" class=\"sk-top-container\"><div class=\"sk-text-repr-fallback\"><pre>DecisionTreeClassifier()</pre><b>In a Jupyter environment, please rerun this cell to show the HTML representation or trust the notebook. <br />On GitHub, the HTML representation is unable to render, please try loading this page with nbviewer.org.</b></div><div class=\"sk-container\" hidden><div class=\"sk-item\"><div class=\"sk-estimator sk-toggleable\"><input class=\"sk-toggleable__control sk-hidden--visually\" id=\"sk-estimator-id-1\" type=\"checkbox\" checked><label for=\"sk-estimator-id-1\" class=\"sk-toggleable__label sk-toggleable__label-arrow\">DecisionTreeClassifier</label><div class=\"sk-toggleable__content\"><pre>DecisionTreeClassifier()</pre></div></div></div></div></div>"
            ]
          },
          "metadata": {},
          "execution_count": 40
        }
      ]
    },
    {
      "cell_type": "code",
      "source": [
        "df['yhat'] = clf.predict(X) # keep in df the predictions"
      ],
      "metadata": {
        "id": "u5pR9OGG7mlU"
      },
      "execution_count": null,
      "outputs": []
    },
    {
      "cell_type": "code",
      "source": [
        "df"
      ],
      "metadata": {
        "colab": {
          "base_uri": "https://localhost:8080/",
          "height": 423
        },
        "id": "GCJGoNV07q5v",
        "outputId": "830b4055-77ee-4beb-b569-7a33bd534b36"
      },
      "execution_count": null,
      "outputs": [
        {
          "output_type": "execute_result",
          "data": {
            "text/plain": [
              "       razon_corriente  rentabilidad_patrimonio  endeudamiento  \\\n",
              "0             4.170808                 0.231989       0.199422   \n",
              "1             4.170808                 0.231989       0.199422   \n",
              "2             4.170808                 0.231989       0.199422   \n",
              "3             4.170808                 0.231989       0.199422   \n",
              "4             2.228661                 0.456749       0.471209   \n",
              "...                ...                      ...            ...   \n",
              "12767        69.733333                 0.044617       0.014340   \n",
              "12768         3.396296                 0.000000       0.294438   \n",
              "12769         0.942019                -0.000000       1.045856   \n",
              "12770         1.201902                 1.058520       0.832015   \n",
              "12771         2.112200                 0.010851       0.061986   \n",
              "\n",
              "       short_run_apalancamiento    y  yhat  \n",
              "0                      0.069972  0.0   0.0  \n",
              "1                      0.069972  0.0   0.0  \n",
              "2                      0.069972  0.0   0.0  \n",
              "3                      0.069972  0.0   0.0  \n",
              "4                      0.707628  0.0   0.0  \n",
              "...                         ...  ...   ...  \n",
              "12767                  0.014549  0.0   0.0  \n",
              "12768                  0.417311  0.0   0.0  \n",
              "12769                -22.807378  0.0   0.0  \n",
              "12770                  4.952896  0.0   0.0  \n",
              "12771                  0.005975  0.0   0.0  \n",
              "\n",
              "[12709 rows x 6 columns]"
            ],
            "text/html": [
              "\n",
              "  <div id=\"df-1ad31528-816e-4d3b-a06a-f90b4d04f532\" class=\"colab-df-container\">\n",
              "    <div>\n",
              "<style scoped>\n",
              "    .dataframe tbody tr th:only-of-type {\n",
              "        vertical-align: middle;\n",
              "    }\n",
              "\n",
              "    .dataframe tbody tr th {\n",
              "        vertical-align: top;\n",
              "    }\n",
              "\n",
              "    .dataframe thead th {\n",
              "        text-align: right;\n",
              "    }\n",
              "</style>\n",
              "<table border=\"1\" class=\"dataframe\">\n",
              "  <thead>\n",
              "    <tr style=\"text-align: right;\">\n",
              "      <th></th>\n",
              "      <th>razon_corriente</th>\n",
              "      <th>rentabilidad_patrimonio</th>\n",
              "      <th>endeudamiento</th>\n",
              "      <th>short_run_apalancamiento</th>\n",
              "      <th>y</th>\n",
              "      <th>yhat</th>\n",
              "    </tr>\n",
              "  </thead>\n",
              "  <tbody>\n",
              "    <tr>\n",
              "      <th>0</th>\n",
              "      <td>4.170808</td>\n",
              "      <td>0.231989</td>\n",
              "      <td>0.199422</td>\n",
              "      <td>0.069972</td>\n",
              "      <td>0.0</td>\n",
              "      <td>0.0</td>\n",
              "    </tr>\n",
              "    <tr>\n",
              "      <th>1</th>\n",
              "      <td>4.170808</td>\n",
              "      <td>0.231989</td>\n",
              "      <td>0.199422</td>\n",
              "      <td>0.069972</td>\n",
              "      <td>0.0</td>\n",
              "      <td>0.0</td>\n",
              "    </tr>\n",
              "    <tr>\n",
              "      <th>2</th>\n",
              "      <td>4.170808</td>\n",
              "      <td>0.231989</td>\n",
              "      <td>0.199422</td>\n",
              "      <td>0.069972</td>\n",
              "      <td>0.0</td>\n",
              "      <td>0.0</td>\n",
              "    </tr>\n",
              "    <tr>\n",
              "      <th>3</th>\n",
              "      <td>4.170808</td>\n",
              "      <td>0.231989</td>\n",
              "      <td>0.199422</td>\n",
              "      <td>0.069972</td>\n",
              "      <td>0.0</td>\n",
              "      <td>0.0</td>\n",
              "    </tr>\n",
              "    <tr>\n",
              "      <th>4</th>\n",
              "      <td>2.228661</td>\n",
              "      <td>0.456749</td>\n",
              "      <td>0.471209</td>\n",
              "      <td>0.707628</td>\n",
              "      <td>0.0</td>\n",
              "      <td>0.0</td>\n",
              "    </tr>\n",
              "    <tr>\n",
              "      <th>...</th>\n",
              "      <td>...</td>\n",
              "      <td>...</td>\n",
              "      <td>...</td>\n",
              "      <td>...</td>\n",
              "      <td>...</td>\n",
              "      <td>...</td>\n",
              "    </tr>\n",
              "    <tr>\n",
              "      <th>12767</th>\n",
              "      <td>69.733333</td>\n",
              "      <td>0.044617</td>\n",
              "      <td>0.014340</td>\n",
              "      <td>0.014549</td>\n",
              "      <td>0.0</td>\n",
              "      <td>0.0</td>\n",
              "    </tr>\n",
              "    <tr>\n",
              "      <th>12768</th>\n",
              "      <td>3.396296</td>\n",
              "      <td>0.000000</td>\n",
              "      <td>0.294438</td>\n",
              "      <td>0.417311</td>\n",
              "      <td>0.0</td>\n",
              "      <td>0.0</td>\n",
              "    </tr>\n",
              "    <tr>\n",
              "      <th>12769</th>\n",
              "      <td>0.942019</td>\n",
              "      <td>-0.000000</td>\n",
              "      <td>1.045856</td>\n",
              "      <td>-22.807378</td>\n",
              "      <td>0.0</td>\n",
              "      <td>0.0</td>\n",
              "    </tr>\n",
              "    <tr>\n",
              "      <th>12770</th>\n",
              "      <td>1.201902</td>\n",
              "      <td>1.058520</td>\n",
              "      <td>0.832015</td>\n",
              "      <td>4.952896</td>\n",
              "      <td>0.0</td>\n",
              "      <td>0.0</td>\n",
              "    </tr>\n",
              "    <tr>\n",
              "      <th>12771</th>\n",
              "      <td>2.112200</td>\n",
              "      <td>0.010851</td>\n",
              "      <td>0.061986</td>\n",
              "      <td>0.005975</td>\n",
              "      <td>0.0</td>\n",
              "      <td>0.0</td>\n",
              "    </tr>\n",
              "  </tbody>\n",
              "</table>\n",
              "<p>12709 rows × 6 columns</p>\n",
              "</div>\n",
              "    <div class=\"colab-df-buttons\">\n",
              "\n",
              "  <div class=\"colab-df-container\">\n",
              "    <button class=\"colab-df-convert\" onclick=\"convertToInteractive('df-1ad31528-816e-4d3b-a06a-f90b4d04f532')\"\n",
              "            title=\"Convert this dataframe to an interactive table.\"\n",
              "            style=\"display:none;\">\n",
              "\n",
              "  <svg xmlns=\"http://www.w3.org/2000/svg\" height=\"24px\" viewBox=\"0 -960 960 960\">\n",
              "    <path d=\"M120-120v-720h720v720H120Zm60-500h600v-160H180v160Zm220 220h160v-160H400v160Zm0 220h160v-160H400v160ZM180-400h160v-160H180v160Zm440 0h160v-160H620v160ZM180-180h160v-160H180v160Zm440 0h160v-160H620v160Z\"/>\n",
              "  </svg>\n",
              "    </button>\n",
              "\n",
              "  <style>\n",
              "    .colab-df-container {\n",
              "      display:flex;\n",
              "      gap: 12px;\n",
              "    }\n",
              "\n",
              "    .colab-df-convert {\n",
              "      background-color: #E8F0FE;\n",
              "      border: none;\n",
              "      border-radius: 50%;\n",
              "      cursor: pointer;\n",
              "      display: none;\n",
              "      fill: #1967D2;\n",
              "      height: 32px;\n",
              "      padding: 0 0 0 0;\n",
              "      width: 32px;\n",
              "    }\n",
              "\n",
              "    .colab-df-convert:hover {\n",
              "      background-color: #E2EBFA;\n",
              "      box-shadow: 0px 1px 2px rgba(60, 64, 67, 0.3), 0px 1px 3px 1px rgba(60, 64, 67, 0.15);\n",
              "      fill: #174EA6;\n",
              "    }\n",
              "\n",
              "    .colab-df-buttons div {\n",
              "      margin-bottom: 4px;\n",
              "    }\n",
              "\n",
              "    [theme=dark] .colab-df-convert {\n",
              "      background-color: #3B4455;\n",
              "      fill: #D2E3FC;\n",
              "    }\n",
              "\n",
              "    [theme=dark] .colab-df-convert:hover {\n",
              "      background-color: #434B5C;\n",
              "      box-shadow: 0px 1px 3px 1px rgba(0, 0, 0, 0.15);\n",
              "      filter: drop-shadow(0px 1px 2px rgba(0, 0, 0, 0.3));\n",
              "      fill: #FFFFFF;\n",
              "    }\n",
              "  </style>\n",
              "\n",
              "    <script>\n",
              "      const buttonEl =\n",
              "        document.querySelector('#df-1ad31528-816e-4d3b-a06a-f90b4d04f532 button.colab-df-convert');\n",
              "      buttonEl.style.display =\n",
              "        google.colab.kernel.accessAllowed ? 'block' : 'none';\n",
              "\n",
              "      async function convertToInteractive(key) {\n",
              "        const element = document.querySelector('#df-1ad31528-816e-4d3b-a06a-f90b4d04f532');\n",
              "        const dataTable =\n",
              "          await google.colab.kernel.invokeFunction('convertToInteractive',\n",
              "                                                    [key], {});\n",
              "        if (!dataTable) return;\n",
              "\n",
              "        const docLinkHtml = 'Like what you see? Visit the ' +\n",
              "          '<a target=\"_blank\" href=https://colab.research.google.com/notebooks/data_table.ipynb>data table notebook</a>'\n",
              "          + ' to learn more about interactive tables.';\n",
              "        element.innerHTML = '';\n",
              "        dataTable['output_type'] = 'display_data';\n",
              "        await google.colab.output.renderOutput(dataTable, element);\n",
              "        const docLink = document.createElement('div');\n",
              "        docLink.innerHTML = docLinkHtml;\n",
              "        element.appendChild(docLink);\n",
              "      }\n",
              "    </script>\n",
              "  </div>\n",
              "\n",
              "\n",
              "<div id=\"df-421e516b-ad99-4049-82fe-014644be2245\">\n",
              "  <button class=\"colab-df-quickchart\" onclick=\"quickchart('df-421e516b-ad99-4049-82fe-014644be2245')\"\n",
              "            title=\"Suggest charts.\"\n",
              "            style=\"display:none;\">\n",
              "\n",
              "<svg xmlns=\"http://www.w3.org/2000/svg\" height=\"24px\"viewBox=\"0 0 24 24\"\n",
              "     width=\"24px\">\n",
              "    <g>\n",
              "        <path d=\"M19 3H5c-1.1 0-2 .9-2 2v14c0 1.1.9 2 2 2h14c1.1 0 2-.9 2-2V5c0-1.1-.9-2-2-2zM9 17H7v-7h2v7zm4 0h-2V7h2v10zm4 0h-2v-4h2v4z\"/>\n",
              "    </g>\n",
              "</svg>\n",
              "  </button>\n",
              "\n",
              "<style>\n",
              "  .colab-df-quickchart {\n",
              "    background-color: #E8F0FE;\n",
              "    border: none;\n",
              "    border-radius: 50%;\n",
              "    cursor: pointer;\n",
              "    display: none;\n",
              "    fill: #1967D2;\n",
              "    height: 32px;\n",
              "    padding: 0 0 0 0;\n",
              "    width: 32px;\n",
              "  }\n",
              "\n",
              "  .colab-df-quickchart:hover {\n",
              "    background-color: #E2EBFA;\n",
              "    box-shadow: 0px 1px 2px rgba(60, 64, 67, 0.3), 0px 1px 3px 1px rgba(60, 64, 67, 0.15);\n",
              "    fill: #174EA6;\n",
              "  }\n",
              "\n",
              "  [theme=dark] .colab-df-quickchart {\n",
              "    background-color: #3B4455;\n",
              "    fill: #D2E3FC;\n",
              "  }\n",
              "\n",
              "  [theme=dark] .colab-df-quickchart:hover {\n",
              "    background-color: #434B5C;\n",
              "    box-shadow: 0px 1px 3px 1px rgba(0, 0, 0, 0.15);\n",
              "    filter: drop-shadow(0px 1px 2px rgba(0, 0, 0, 0.3));\n",
              "    fill: #FFFFFF;\n",
              "  }\n",
              "</style>\n",
              "\n",
              "  <script>\n",
              "    async function quickchart(key) {\n",
              "      const charts = await google.colab.kernel.invokeFunction(\n",
              "          'suggestCharts', [key], {});\n",
              "    }\n",
              "    (() => {\n",
              "      let quickchartButtonEl =\n",
              "        document.querySelector('#df-421e516b-ad99-4049-82fe-014644be2245 button');\n",
              "      quickchartButtonEl.style.display =\n",
              "        google.colab.kernel.accessAllowed ? 'block' : 'none';\n",
              "    })();\n",
              "  </script>\n",
              "</div>\n",
              "    </div>\n",
              "  </div>\n"
            ]
          },
          "metadata": {},
          "execution_count": 42
        }
      ]
    },
    {
      "cell_type": "code",
      "source": [
        "from sklearn.metrics import classification_report\n",
        "print(classification_report(df['y'], df['yhat']))"
      ],
      "metadata": {
        "colab": {
          "base_uri": "https://localhost:8080/"
        },
        "id": "gDaeFszv8Gmy",
        "outputId": "d10cc3f5-69c7-4887-d9eb-e4fa38a9b4da"
      },
      "execution_count": null,
      "outputs": [
        {
          "output_type": "stream",
          "name": "stdout",
          "text": [
            "              precision    recall  f1-score   support\n",
            "\n",
            "         0.0       1.00      1.00      1.00     12535\n",
            "         1.0       1.00      1.00      1.00       174\n",
            "\n",
            "    accuracy                           1.00     12709\n",
            "   macro avg       1.00      1.00      1.00     12709\n",
            "weighted avg       1.00      1.00      1.00     12709\n",
            "\n"
          ]
        }
      ]
    },
    {
      "cell_type": "code",
      "source": [
        "from sklearn.model_selection import train_test_split\n",
        "X_train, X_test, y_train, y_test = train_test_split(X, y , test_size=0.2) # split database keeping 20% to test"
      ],
      "metadata": {
        "id": "RB7t6ZSZ87Cc"
      },
      "execution_count": null,
      "outputs": []
    },
    {
      "cell_type": "code",
      "source": [
        "clf = DecisionTreeClassifier()\n",
        "clf.fit(X_train, y_train)\n",
        "preds = clf.predict(X_test) # 20% que no ha visto\n",
        "print(classification_report(y_test, preds))"
      ],
      "metadata": {
        "colab": {
          "base_uri": "https://localhost:8080/"
        },
        "id": "l71nuEYy9DXO",
        "outputId": "61e012d3-5038-4e94-9684-0546fc45c29a"
      },
      "execution_count": null,
      "outputs": [
        {
          "output_type": "stream",
          "name": "stdout",
          "text": [
            "              precision    recall  f1-score   support\n",
            "\n",
            "         0.0       1.00      1.00      1.00      2510\n",
            "         1.0       1.00      1.00      1.00        32\n",
            "\n",
            "    accuracy                           1.00      2542\n",
            "   macro avg       1.00      1.00      1.00      2542\n",
            "weighted avg       1.00      1.00      1.00      2542\n",
            "\n"
          ]
        }
      ]
    },
    {
      "cell_type": "code",
      "source": [
        "X = df[predictors]\n",
        "y = df['y']\n",
        "X_train, X_test, y_train, y_test = train_test_split(X, y , test_size=0.2) # split database keeping 20% to test\n",
        "clf = DecisionTreeClassifier()\n",
        "clf.fit(X_train, y_train)\n",
        "preds = clf.predict(X_test) # 20% que no ha visto\n",
        "print(classification_report(y_test, preds))"
      ],
      "metadata": {
        "colab": {
          "base_uri": "https://localhost:8080/"
        },
        "id": "vo_hR8Tn-Jr3",
        "outputId": "85637062-2938-490b-f41a-96fae4987118"
      },
      "execution_count": null,
      "outputs": [
        {
          "output_type": "stream",
          "name": "stdout",
          "text": [
            "              precision    recall  f1-score   support\n",
            "\n",
            "         0.0       1.00      1.00      1.00      2507\n",
            "         1.0       1.00      1.00      1.00        35\n",
            "\n",
            "    accuracy                           1.00      2542\n",
            "   macro avg       1.00      1.00      1.00      2542\n",
            "weighted avg       1.00      1.00      1.00      2542\n",
            "\n"
          ]
        }
      ]
    }
  ],
  "metadata": {
    "colab": {
      "name": "Te damos la bienvenida a Colaboratory",
      "toc_visible": true,
      "provenance": [],
      "include_colab_link": true
    },
    "kernelspec": {
      "display_name": "Python 3",
      "name": "python3"
    }
  },
  "nbformat": 4,
  "nbformat_minor": 0
}